{
 "cells": [
  {
   "cell_type": "markdown",
   "id": "7a647fb2",
   "metadata": {},
   "source": [
    "# 🌟데이터 EDA"
   ]
  },
  {
   "cell_type": "code",
   "execution_count": null,
   "id": "33857b6c",
   "metadata": {},
   "outputs": [],
   "source": [
    "import pandas as pd\n",
    "import matplotlib.pyplot as plt \n",
    "import cv2\n",
    "import seaborn as sns\n",
    "import numpy as np\n",
    "import os\n",
    "import warnings\n",
    "from glob import glob\n",
    "import json\n",
    "warnings.filterwarnings('ignore')\n",
    "\n",
    "path = '/aiffel/aiffel/aiffelthon/데이터EDA'\n",
    "# csv가져오기\n",
    "meta = pd.read_csv(path+'/meta.csv')\n",
    "anno = pd.read_csv(path+'/anno.csv')"
   ]
  },
  {
   "cell_type": "code",
   "execution_count": null,
   "id": "84b43d86",
   "metadata": {},
   "outputs": [],
   "source": [
    "meta.head()"
   ]
  },
  {
   "cell_type": "code",
   "execution_count": null,
   "id": "94f44b7b",
   "metadata": {},
   "outputs": [],
   "source": [
    "anno.head()"
   ]
  },
  {
   "cell_type": "markdown",
   "id": "2a44d93e",
   "metadata": {},
   "source": [
    "## 💡meta 데이터 분석"
   ]
  },
  {
   "cell_type": "code",
   "execution_count": null,
   "id": "1c58364b",
   "metadata": {},
   "outputs": [],
   "source": [
    "# 이미지 size 확인\n",
    "meta['size'].value_counts()"
   ]
  },
  {
   "cell_type": "code",
   "execution_count": null,
   "id": "902029e3",
   "metadata": {},
   "outputs": [],
   "source": [
    "# 날씨 확인\n",
    "meta['weather'].value_counts()"
   ]
  },
  {
   "cell_type": "code",
   "execution_count": null,
   "id": "59ee7859",
   "metadata": {
    "scrolled": false
   },
   "outputs": [],
   "source": [
    "# 도로 특징 확인\n",
    "meta['road_feature'].value_counts()"
   ]
  },
  {
   "cell_type": "code",
   "execution_count": null,
   "id": "1276b05c",
   "metadata": {},
   "outputs": [],
   "source": [
    "# 위치 특징 확인\n",
    "meta['location_feature'].value_counts().sort_index()"
   ]
  },
  {
   "cell_type": "code",
   "execution_count": null,
   "id": "3950501b",
   "metadata": {},
   "outputs": [],
   "source": [
    "# 운전 상황 확인\n",
    "meta['driving_scenario'].value_counts()"
   ]
  },
  {
   "cell_type": "code",
   "execution_count": null,
   "id": "cd5a3555",
   "metadata": {},
   "outputs": [],
   "source": [
    "# 도로 타입 확인\n",
    "meta['road_type'].value_counts()"
   ]
  },
  {
   "cell_type": "code",
   "execution_count": null,
   "id": "7378c429",
   "metadata": {},
   "outputs": [],
   "source": [
    "# 운전 속도 확인\n",
    "meta['ego_long_vel_level'].value_counts()"
   ]
  },
  {
   "cell_type": "code",
   "execution_count": null,
   "id": "b87c3983",
   "metadata": {},
   "outputs": [],
   "source": [
    "# 조도(빛) 상태 확인\n",
    "meta['illumination_status'].value_counts()"
   ]
  },
  {
   "cell_type": "code",
   "execution_count": null,
   "id": "b3eb9cd4",
   "metadata": {},
   "outputs": [],
   "source": [
    "# 도로 상태 확인\n",
    "meta['road_status'].value_counts()"
   ]
  },
  {
   "cell_type": "code",
   "execution_count": null,
   "id": "3409648c",
   "metadata": {},
   "outputs": [],
   "source": [
    "# 객체 수 확인\n",
    "meta['crowd_level'].value_counts()"
   ]
  },
  {
   "cell_type": "code",
   "execution_count": null,
   "id": "aa52f722",
   "metadata": {},
   "outputs": [],
   "source": [
    "# 센서 상태 확인\n",
    "meta['sensor_status'].value_counts()"
   ]
  },
  {
   "cell_type": "markdown",
   "id": "b2dda0c7",
   "metadata": {},
   "source": [
    "## 📈meta 데이터 시각화"
   ]
  },
  {
   "cell_type": "code",
   "execution_count": null,
   "id": "4294d3fb",
   "metadata": {
    "scrolled": true
   },
   "outputs": [],
   "source": [
    "plot_list = ['weather','sensor_status','crowd_level','illumination_status']\n",
    "plt.figure(figsize=(30, 20))\n",
    "# plt.subplots(constrained_layout=True)\n",
    "palette = sns.color_palette('coolwarm', 10)\n",
    "for i in range(len(plot_list)):\n",
    "    plt.subplot(2,2,i+1)\n",
    "    ax = sns.countplot(x = plot_list[i], data = meta, palette = palette)\n",
    "#     plt.title(plot_list[i],fontsize =15)\n",
    "    plt.xlabel(plot_list[i],fontsize = 18)\n",
    "    plt.ylabel('Rates',fontsize = 18)\n",
    "    for p in ax.patches:\n",
    "        height = p.get_height()\n",
    "        ax.text(p.get_x() + p.get_width()/2., height+5, height, ha = 'center', size = 17)\n",
    "\n",
    "    \n",
    "# 원-핫 \n",
    "df = pd.get_dummies(meta[['weather','sensor_status','crowd_level','illumination_status']])\n",
    "df = df.corr()\n",
    "# 그림 사이즈 지정\n",
    "fig, ax = plt.subplots( figsize=(10,10) )\n",
    "\n",
    "# 삼각형 마스크를 만든다(위 쪽 삼각형에 True, 아래 삼각형에 False)\n",
    "mask = np.zeros_like(df, dtype=np.bool)\n",
    "mask[np.triu_indices_from(mask)] = True\n",
    "\n",
    "# 히트맵을 그린다\n",
    "sns.heatmap(df, \n",
    "            cmap = 'RdYlBu_r', \n",
    "            annot = True,   # 실제 값을 표시한다\n",
    "            mask=mask,      # 표시하지 않을 마스크 부분을 지정한다\n",
    "            linewidths=.5,  # 경계면 실선으로 구분하기\n",
    "            cbar_kws={\"shrink\": .5},# 컬러바 크기 절반으로 줄이기\n",
    "            vmin = -1,vmax = 1   # 컬러바 범위 -1 ~ 1\n",
    "           )\n",
    "plt.show()"
   ]
  },
  {
   "cell_type": "markdown",
   "id": "a9e6d546",
   "metadata": {},
   "source": [
    "## 📝 meta 데이터 분석 결과\n",
    "- 1. 날씨 \n",
    "    - 날씨의 경우 날씨에 따른 여러가지 상태를 고려해야 할 것 같다.\n",
    "    - 맑은 날은 역광이, 흐린날에는 물맺힘 현상등을 고려해야 할거 같고 강건화를 위해서는 최대한 포함시키는게 좋을것 같다.\n",
    "- 2. 객체 수\n",
    "    - 자율주행의 관점에서 고려해 보았을때 객체가 밀집한 경우는 보통 비슷한 객체가 모여있을 확률이 높고 그중 하나만 detect된다면 굳이 모든 객체를 분류 할 필요는 없을 것으로 보인다.\n",
    "    - 학습의 관점에서 보았을 때는 분류학습을 위해 최대한 객체가 많이 포함되는것이 좋아보인다.\n",
    "    - 결론적으로 객체가 도로에 많아서 학습에 악영향이 있다고 보이진 않고 학습을 위해서 최대한 객체 를 많이 포함하는 방향으로 가는게 좋아 보인다.\n",
    "- 3. 센서상태, 역광\n",
    "    - 해당문제는 날씨와 연관이 있다고 생각했는데 상관관계를 보니 그렇지는 않은것으로 나타났다.\n",
    "    - 센서에 물이 맷혀도, 역광이 심해도 우리는 객체 인식을 잘 해야하기 때문에 최대한 모든데이터를 골고루 포함하도록 해야할것 같다. "
   ]
  },
  {
   "cell_type": "markdown",
   "id": "c03b9114",
   "metadata": {},
   "source": [
    "## 💡annotation 분석"
   ]
  },
  {
   "cell_type": "code",
   "execution_count": null,
   "id": "f648c7f7",
   "metadata": {},
   "outputs": [],
   "source": [
    "# label 확인\n",
    "anno['label'].value_counts()"
   ]
  },
  {
   "cell_type": "code",
   "execution_count": null,
   "id": "d868f0c1",
   "metadata": {},
   "outputs": [],
   "source": [
    "# attribute 확인\n",
    "anno['attribute'].value_counts()"
   ]
  },
  {
   "cell_type": "code",
   "execution_count": null,
   "id": "e5b2ff82",
   "metadata": {},
   "outputs": [],
   "source": [
    "# occlusion(객체가 가려진 상태)\n",
    "anno['occlusion'].value_counts()"
   ]
  },
  {
   "cell_type": "code",
   "execution_count": null,
   "id": "55617942",
   "metadata": {},
   "outputs": [],
   "source": [
    "# truncation(객체가 잘린 상태) 확인\n",
    "anno['truncation'].value_counts()"
   ]
  },
  {
   "cell_type": "code",
   "execution_count": null,
   "id": "87a621ea",
   "metadata": {},
   "outputs": [],
   "source": [
    "# scenario(객체의 거동 시나리오) 확인\n",
    "anno['scenario'].value_counts()"
   ]
  },
  {
   "cell_type": "code",
   "execution_count": null,
   "id": "71630686",
   "metadata": {},
   "outputs": [],
   "source": [
    "# isfake(객체의 진위 여부) 확인\n",
    "anno['isfake'].value_counts()"
   ]
  },
  {
   "cell_type": "code",
   "execution_count": null,
   "id": "660cd929",
   "metadata": {},
   "outputs": [],
   "source": [
    "# ismask(마스크 착용 여부) 확인\n",
    "anno['ismask'].value_counts()"
   ]
  },
  {
   "cell_type": "markdown",
   "id": "d61d28e5",
   "metadata": {},
   "source": [
    "## 📈annotations 시각화"
   ]
  },
  {
   "cell_type": "code",
   "execution_count": null,
   "id": "1efd1c2d",
   "metadata": {},
   "outputs": [],
   "source": [
    "plot_list = ['label','attribute','occlusion','truncation','isfake']\n",
    "plt.figure(figsize=(30, 20))\n",
    "# plt.subplots(constrained_layout=True)\n",
    "for i in range(len(plot_list)):\n",
    "    plt.subplot(3,2,i+1)\n",
    "    ax = sns.countplot(x = plot_list[i], data = anno, palette = palette)\n",
    "    plt.title(plot_list[i],fontsize =20)\n",
    "    plt.xlabel(plot_list[i],fontsize = 20)\n",
    "    plt.ylabel('Rates',fontsize = 20)\n",
    "    for p in ax.patches:\n",
    "        height = p.get_height()\n",
    "        ax.text(p.get_x() + p.get_width()/2., height+5, height, ha = 'center', size = 16)"
   ]
  },
  {
   "cell_type": "markdown",
   "id": "b6f26b11",
   "metadata": {},
   "source": [
    "## 📝annotations 데이터 분석 결과\n",
    "- 라벨, attribute, 가려진상태, 잘린 상태, 가짜이미지 들에 대해 분석해 보았다.\n",
    "- 1. 라벨 \n",
    "    - 클래스를 라벨로 할지 attr로 할지 고민 해 보아야 할것 같고 객체의 분포가 일정하지 않아 객체수가 상대적으로 적은것들은 학습이 잘 되지 않을 것으로 보이므로 최대한 적은객체를 다포함시키거나 배제할 수 있으면 배재하는 방향으로 가야할 것 같다.\n",
    "- 2. occlusion, truncation\n",
    "    - 강건화를 위해서 잘리거나 가려진 이미지를 많이 포함하는 방향으로 데이터를 구성해야 할것 같다.\n",
    "- 3. isfake\n",
    "    - 가짜 이미지 시각화해서 분석후 포함할지 결정을 해야 할것 같다."
   ]
  },
  {
   "cell_type": "markdown",
   "id": "009f2dd8",
   "metadata": {},
   "source": [
    "# 📊이미지 시각화  (smear, pm, is fake)"
   ]
  },
  {
   "cell_type": "markdown",
   "id": "d75e8df4",
   "metadata": {},
   "source": [
    "## 🎈weather:['sunny','cloudy']"
   ]
  },
  {
   "cell_type": "code",
   "execution_count": null,
   "id": "c57ef7a1",
   "metadata": {},
   "outputs": [],
   "source": [
    "# sunny\n",
    "path = '/aiffel/aiffel/aiffelthon/데이터EDA/random_1000/'\n",
    "png_list = sorted(glob(path+'*.png'))\n",
    "json_list = sorted(glob(path+'*.json'))\n",
    "for i, j in zip(png_list, json_list):\n",
    "    with open(j,'r')as f:\n",
    "        info = json.load(f)\n",
    "    if (info['weather'] ==  'sunny')&(info['filename']=='1655166871340_FR-View-CMR-Wide.png'):\n",
    "        plt.figure(figsize=(12,8))\n",
    "        img = cv2.cvtColor( cv2.imread(i), cv2.COLOR_BGR2RGB)\n",
    "        plt.title(f\"{info['weather']}\")\n",
    "#         print(info['filename'])\n",
    "        plt.imshow(img)\n",
    "        plt.show()\n",
    "        break"
   ]
  },
  {
   "cell_type": "code",
   "execution_count": null,
   "id": "05e49dcb",
   "metadata": {},
   "outputs": [],
   "source": [
    "# cloudy\n",
    "path = '/aiffel/aiffel/aiffelthon/데이터EDA/random_1000/'\n",
    "png_list = sorted(glob(path+'*.png'))\n",
    "json_list = sorted(glob(path+'*.json'))\n",
    "\n",
    "for i, j in zip(png_list, json_list):\n",
    "    with open(j,'r')as f:\n",
    "        info = json.load(f)\n",
    "    if (info['weather'] ==  'cloudy')&(info['filename'] == '1654740559733_FR-View-CMR-Wide.png'):\n",
    "        plt.figure(figsize=(12,8))\n",
    "        img = cv2.cvtColor( cv2.imread(i), cv2.COLOR_BGR2RGB)\n",
    "        plt.title(f\"{info['weather']}\")\n",
    "        plt.imshow(img)\n",
    "        plt.show()\n",
    "        break"
   ]
  },
  {
   "cell_type": "markdown",
   "id": "d69a6b9a",
   "metadata": {},
   "source": [
    "## 🎈sensor_status:['normal', 'reflection_from_dashboard', 'waterdrop', 'smear']"
   ]
  },
  {
   "cell_type": "code",
   "execution_count": null,
   "id": "b415001d",
   "metadata": {
    "scrolled": true
   },
   "outputs": [],
   "source": [
    "# normal\n",
    "path = '/aiffel/aiffel/aiffelthon/데이터EDA/random_1000/'\n",
    "png_list = sorted(glob(path+'*.png'))\n",
    "json_list = sorted(glob(path+'*.json'))\n",
    "\n",
    "c=0\n",
    "for i, j in zip(png_list, json_list):\n",
    "    with open(j,'r')as f:\n",
    "        info = json.load(f)\n",
    "    if (info['sensor_status'] ==  'normal')&(info['filename'] == '1655165423198_FR-View-CMR-Wide.png'):\n",
    "        plt.figure(figsize=(12,8))\n",
    "        img = cv2.cvtColor( cv2.imread(i), cv2.COLOR_BGR2RGB)\n",
    "        plt.title(\"sensor_status:normal\")\n",
    "        plt.imshow(img)\n",
    "        plt.show()\n",
    "        break"
   ]
  },
  {
   "cell_type": "code",
   "execution_count": null,
   "id": "69e1e02a",
   "metadata": {},
   "outputs": [],
   "source": [
    "# reflection_from_dashboard\n",
    "path = '/aiffel/aiffel/aiffelthon/데이터EDA/random_1000/'\n",
    "png_list = sorted(glob(path+'*.png'))\n",
    "json_list = sorted(glob(path+'*.json'))\n",
    "\n",
    "c=0\n",
    "for i, j in zip(png_list, json_list):\n",
    "    with open(j,'r')as f:\n",
    "        info = json.load(f)\n",
    "    if (info['sensor_status'] ==  'reflection_from_dashboard')&(info['filename']=='1654739281199_FR-View-CMR-Wide.png'):\n",
    "        plt.figure(figsize=(12,8))\n",
    "        img = cv2.cvtColor( cv2.imread(i), cv2.COLOR_BGR2RGB)\n",
    "#         print(info['filename'])\n",
    "        plt.title(\"sensor_status:reflection_from_dashboard\")\n",
    "        plt.imshow(img)\n",
    "        plt.show()\n",
    "        break"
   ]
  },
  {
   "cell_type": "code",
   "execution_count": null,
   "id": "20f9f154",
   "metadata": {},
   "outputs": [],
   "source": [
    "# waterdrop\n",
    "path = '/aiffel/aiffel/aiffelthon/데이터EDA/random_1000/'\n",
    "png_list = sorted(glob(path+'*.png'))\n",
    "json_list = sorted(glob(path+'*.json'))\n",
    "\n",
    "c=0\n",
    "for i, j in zip(png_list, json_list):\n",
    "    with open(j,'r')as f:\n",
    "        info = json.load(f)\n",
    "    if (info['sensor_status'] ==  'waterdrop')&(info['filename']=='1656978553854_FR-View-CMR-Wide.png'):\n",
    "        plt.figure(figsize=(12,8))\n",
    "        img = cv2.cvtColor( cv2.imread(i), cv2.COLOR_BGR2RGB)\n",
    "#         print(info['filename'])\n",
    "        plt.title(\"sensor_status:waterdrop\")\n",
    "        plt.imshow(img)\n",
    "        plt.show()\n",
    "        break"
   ]
  },
  {
   "cell_type": "code",
   "execution_count": null,
   "id": "39bec8ff",
   "metadata": {},
   "outputs": [],
   "source": [
    "# smear\n",
    "path = '/aiffel/aiffel/aiffelthon/데이터EDA/random_1000/'\n",
    "png_list = sorted(glob(path+'*.png'))\n",
    "json_list = sorted(glob(path+'*.json'))\n",
    "\n",
    "c=0\n",
    "for i, j in zip(png_list, json_list):\n",
    "    with open(j,'r')as f:\n",
    "        info = json.load(f)\n",
    "    if (info['sensor_status'] ==  'smear')&(info['filename']=='1659682286392_FR-View-CMR-Wide.png'):\n",
    "        plt.figure(figsize=(12,8))\n",
    "        img = cv2.cvtColor( cv2.imread(i), cv2.COLOR_BGR2RGB)\n",
    "#         print(info['filename'])\n",
    "        plt.title(\"sensor_status:smear\")\n",
    "        plt.imshow(img)\n",
    "        plt.show()\n",
    "        break"
   ]
  },
  {
   "cell_type": "markdown",
   "id": "7143cdfd",
   "metadata": {},
   "source": [
    "## 🎈illumination_status:['backlight_sun']"
   ]
  },
  {
   "cell_type": "code",
   "execution_count": null,
   "id": "38e06041",
   "metadata": {},
   "outputs": [],
   "source": [
    "# backlight_sun\n",
    "path = '/aiffel/aiffel/aiffelthon/데이터EDA/random_1000/'\n",
    "png_list = sorted(glob(path+'*.png'))\n",
    "json_list = sorted(glob(path+'*.json'))\n",
    "\n",
    "c=0\n",
    "for i, j in zip(png_list, json_list):\n",
    "    with open(j,'r')as f:\n",
    "        info = json.load(f)\n",
    "    if (info['illumination_status'] ==  'backlight_sun')&(info['filename']=='1657874329008_FR-View-CMR-Wide.png'):\n",
    "        plt.figure(figsize=(12,8))\n",
    "        img = cv2.cvtColor( cv2.imread(i), cv2.COLOR_BGR2RGB)\n",
    "        plt.title(\"illumination_status:backlight_sun\")\n",
    "        plt.imshow(img)\n",
    "        plt.show()\n",
    "        break"
   ]
  },
  {
   "cell_type": "markdown",
   "id": "7b5ad306",
   "metadata": {},
   "source": [
    "## 🎈crowd_level :['high', 'middle', 'low']"
   ]
  },
  {
   "cell_type": "code",
   "execution_count": null,
   "id": "7142ccbe",
   "metadata": {
    "scrolled": true
   },
   "outputs": [],
   "source": [
    "# high \n",
    "path = '/aiffel/aiffel/aiffelthon/데이터EDA/random_1000/'\n",
    "png_list = sorted(glob(path+'*.png'))\n",
    "json_list = sorted(glob(path+'*.json'))\n",
    "\n",
    "c=0\n",
    "for i, j in zip(png_list, json_list):\n",
    "    with open(j,'r')as f:\n",
    "        info = json.load(f)\n",
    "    if( info['crowd_level'] ==  'high')&(info['filename']=='1654741032452_FR-View-CMR-Wide.png'):\n",
    "        plt.figure(figsize=(12,8))\n",
    "        img = cv2.cvtColor( cv2.imread(i), cv2.COLOR_BGR2RGB)\n",
    "#         print(info['filename'])\n",
    "        plt.title(\"crowd_level :high\")\n",
    "        plt.imshow(img)\n",
    "        plt.show()\n",
    "        break"
   ]
  },
  {
   "cell_type": "code",
   "execution_count": null,
   "id": "327b8c47",
   "metadata": {},
   "outputs": [],
   "source": [
    "# middle \n",
    "path = '/aiffel/aiffel/aiffelthon/데이터EDA/random_1000/'\n",
    "png_list = sorted(glob(path+'*.png'))\n",
    "json_list = sorted(glob(path+'*.json'))\n",
    "\n",
    "c=0\n",
    "for i, j in zip(png_list, json_list):\n",
    "    with open(j,'r')as f:\n",
    "        info = json.load(f)\n",
    "    if (info['crowd_level'] ==  'middle')&(info['filename']=='1654740815439_FR-View-CMR-Wide.png'):\n",
    "        plt.figure(figsize=(12,8))\n",
    "        img = cv2.cvtColor( cv2.imread(i), cv2.COLOR_BGR2RGB)\n",
    "#         print(info['filename'])\n",
    "        plt.title(\"crowd_level :middle\")\n",
    "        plt.imshow(img)\n",
    "        plt.show()\n",
    "        break"
   ]
  },
  {
   "cell_type": "code",
   "execution_count": null,
   "id": "1dc90559",
   "metadata": {},
   "outputs": [],
   "source": [
    "# low \n",
    "path = '/aiffel/aiffel/aiffelthon/데이터EDA/random_1000/'\n",
    "png_list = sorted(glob(path+'*.png'))\n",
    "json_list = sorted(glob(path+'*.json'))\n",
    "\n",
    "c=0\n",
    "for i, j in zip(png_list, json_list):\n",
    "    with open(j,'r')as f:\n",
    "        info = json.load(f)\n",
    "    if (info['crowd_level'] ==  'low')&(info['filename']=='1656049121722_FR-View-CMR-Wide.png'):\n",
    "        plt.figure(figsize=(12,8))\n",
    "        img = cv2.cvtColor( cv2.imread(i), cv2.COLOR_BGR2RGB)\n",
    "#         print(info['filename'])\n",
    "        plt.title(\"crowd_level :low\")\n",
    "        plt.imshow(img)\n",
    "        plt.show()\n",
    "        break"
   ]
  },
  {
   "cell_type": "markdown",
   "id": "a43febf5",
   "metadata": {},
   "source": [
    "### 🎈attribute:['pm','face','unknown','trailer','specialclothes','movable_object','wheelchair_stroller','animal']"
   ]
  },
  {
   "cell_type": "code",
   "execution_count": null,
   "id": "71ebb607",
   "metadata": {
    "scrolled": true
   },
   "outputs": [],
   "source": [
    "# pm\n",
    "path = '/aiffel/aiffel/aiffelthon/데이터EDA/random_1000/'\n",
    "png_list = sorted(glob(path+'*.png'))\n",
    "json_list = sorted(glob(path+'*.json'))\n",
    "c=0\n",
    "for i, j in zip(png_list, json_list):\n",
    "    with open(j,'r')as f:\n",
    "        info = json.load(f)\n",
    "    for k in info['annotations']:\n",
    "        if (k['attribute'] == 'pm')&(info['filename']=='1656046860751_RR-Right-View-CMR-Narrow.png'):\n",
    "            plt.figure(figsize=(12,8))\n",
    "            img = cv2.cvtColor( cv2.imread(i), cv2.COLOR_BGR2RGB)\n",
    "            img = cv2.rectangle(img, k['points'][0], k['points'][2], (255,0,255), 2)\n",
    "#             print(info['filename'])\n",
    "            plt.title('attrubute:pm')\n",
    "            plt.imshow(img)\n",
    "            plt.show()\n",
    "            c+=1\n",
    "            break\n",
    "    if c==1:\n",
    "        break"
   ]
  },
  {
   "cell_type": "code",
   "execution_count": null,
   "id": "3dd0af05",
   "metadata": {},
   "outputs": [],
   "source": [
    "# face\n",
    "path = '/aiffel/aiffel/aiffelthon/데이터EDA/random_1000/'\n",
    "png_list = sorted(glob(path+'*.png'))\n",
    "json_list = sorted(glob(path+'*.json'))\n",
    "c=0\n",
    "for i, j in zip(png_list, json_list):\n",
    "    with open(j,'r')as f:\n",
    "        info = json.load(f)\n",
    "    for k in info['annotations']:\n",
    "        if (k['attribute'] == 'face')&(info['filename']=='1656044116008_RR-View-CMR-Wide.png'):\n",
    "            plt.figure(figsize=(12,8))\n",
    "            img = cv2.cvtColor( cv2.imread(i), cv2.COLOR_BGR2RGB)\n",
    "            img = cv2.rectangle(img, k['points'][0], k['points'][2], (255,0,255), 2)\n",
    "#             print(info['filename'])\n",
    "            plt.title('attrubute:face')\n",
    "            plt.imshow(img)\n",
    "            plt.show()\n",
    "            c+=1\n",
    "            break\n",
    "    if c==1:\n",
    "        break\n",
    "            "
   ]
  },
  {
   "cell_type": "code",
   "execution_count": null,
   "id": "4364edb8",
   "metadata": {},
   "outputs": [],
   "source": [
    "# unknown\n",
    "path = '/aiffel/aiffel/aiffelthon/데이터EDA/random_1000/'\n",
    "png_list = sorted(glob(path+'*.png'))\n",
    "json_list = sorted(glob(path+'*.json'))\n",
    "c=0\n",
    "for i, j in zip(png_list, json_list):\n",
    "    with open(j,'r')as f:\n",
    "        info = json.load(f)\n",
    "    for k in info['annotations']:\n",
    "        if (k['attribute'] == 'unknown')&(info['filename']=='1654759830752_FR-View-CMR-Wide.png'):\n",
    "            plt.figure(figsize=(12,8))\n",
    "            img = cv2.cvtColor( cv2.imread(i), cv2.COLOR_BGR2RGB)\n",
    "            img = cv2.rectangle(img, k['points'][0], k['points'][2], (255,0,255), 2)\n",
    "#             print(info['filename'])\n",
    "            plt.title('attrubute:unknown')\n",
    "            plt.imshow(img)\n",
    "            plt.show()\n",
    "            c+=1\n",
    "            break\n",
    "    if c==1:\n",
    "        break"
   ]
  },
  {
   "cell_type": "code",
   "execution_count": null,
   "id": "743fd602",
   "metadata": {},
   "outputs": [],
   "source": [
    "# trailer\n",
    "path = '/aiffel/aiffel/aiffelthon/데이터EDA/random_1000/'\n",
    "png_list = sorted(glob(path+'*.png'))\n",
    "json_list = sorted(glob(path+'*.json'))\n",
    "c=0\n",
    "for i, j in zip(png_list, json_list):\n",
    "    with open(j,'r')as f:\n",
    "        info = json.load(f)\n",
    "    for k in info['annotations']:\n",
    "        if (k['attribute'] == 'trailer')&(info['filename']=='1657073055665_FR-View-CMR-Wide.png'):\n",
    "            plt.figure(figsize=(12,8))\n",
    "            img = cv2.cvtColor( cv2.imread(i), cv2.COLOR_BGR2RGB)\n",
    "            img = cv2.rectangle(img, k['points'][0], k['points'][2], (255,0,255), 2)\n",
    "#             print(info['filename'])\n",
    "            plt.title('attrubute:trailer')\n",
    "            plt.imshow(img)\n",
    "            plt.show()\n",
    "            c+=1\n",
    "            break\n",
    "    if c>=1:\n",
    "        break\n",
    "            "
   ]
  },
  {
   "cell_type": "code",
   "execution_count": null,
   "id": "73cc9122",
   "metadata": {},
   "outputs": [],
   "source": [
    "# specialclothes\n",
    "path = '/aiffel/aiffel/aiffelthon/데이터EDA/random_1000/'\n",
    "png_list = sorted(glob(path+'*.png'))\n",
    "json_list = sorted(glob(path+'*.json'))\n",
    "c=0\n",
    "for i, j in zip(png_list, json_list):\n",
    "    with open(j,'r')as f:\n",
    "        info = json.load(f)\n",
    "    for k in info['annotations']:\n",
    "        if (k['attribute'] == 'specialclothes')&(info['filename']=='1656044112975_RR-Left-View-CMR-Narrow.png'):\n",
    "            plt.figure(figsize=(12,8))\n",
    "            img = cv2.cvtColor( cv2.imread(i), cv2.COLOR_BGR2RGB)\n",
    "            img = cv2.rectangle(img, k['points'][0], k['points'][2], (255,0,255), 2)\n",
    "#             print(info['filename'])\n",
    "            plt.title('attrubute:specialclothes')\n",
    "            plt.imshow(img)\n",
    "            plt.show()\n",
    "            c+=1\n",
    "            break\n",
    "    if c>=1:\n",
    "        break\n",
    "            "
   ]
  },
  {
   "cell_type": "code",
   "execution_count": null,
   "id": "5e2e1edb",
   "metadata": {},
   "outputs": [],
   "source": [
    "# movable_object\n",
    "path = '/aiffel/aiffel/aiffelthon/데이터EDA/random_1000/'\n",
    "png_list = sorted(glob(path+'*.png'))\n",
    "json_list = sorted(glob(path+'*.json'))\n",
    "c=0\n",
    "for i, j in zip(png_list, json_list):\n",
    "    with open(j,'r')as f:\n",
    "        info = json.load(f)\n",
    "    for k in info['annotations']:\n",
    "        if (k['attribute'] == 'movable_object')&(info['filename']=='1656050309533_RR-Right-View-CMR-Narrow.png'):\n",
    "            plt.figure(figsize=(12,8))\n",
    "            img = cv2.cvtColor( cv2.imread(i), cv2.COLOR_BGR2RGB)\n",
    "            img = cv2.rectangle(img, k['points'][0], k['points'][2], (255,0,255), 2)\n",
    "#             print(info['filename'])\n",
    "            plt.title('attrubute:movable_object')\n",
    "            plt.imshow(img)\n",
    "            plt.show()\n",
    "            c+=1\n",
    "            break\n",
    "    if c>=1:\n",
    "        break\n",
    "            "
   ]
  },
  {
   "cell_type": "code",
   "execution_count": null,
   "id": "35178c12",
   "metadata": {},
   "outputs": [],
   "source": [
    "# wheelchair_stroller\n",
    "path = '/aiffel/aiffel/aiffelthon/데이터EDA/random_1000/'\n",
    "png_list = sorted(glob(path+'*.png'))\n",
    "json_list = sorted(glob(path+'*.json'))\n",
    "c=0\n",
    "for i, j in zip(png_list, json_list):\n",
    "    with open(j,'r')as f:\n",
    "        info = json.load(f)\n",
    "    for k in info['annotations']:\n",
    "        if (k['attribute'] == 'wheelchair_stroller')&(info['filename']=='1654752917404_FR-View-CMR-Wide.png'):\n",
    "            plt.figure(figsize=(12,8))\n",
    "            img = cv2.cvtColor( cv2.imread(i), cv2.COLOR_BGR2RGB)\n",
    "            img = cv2.rectangle(img, k['points'][0], k['points'][2], (255,0,255), 2)\n",
    "#             print(info['filename'])\n",
    "            plt.title('attrubute:wheelchair_stroller')\n",
    "            plt.imshow(img)\n",
    "            plt.show()\n",
    "            c+=1\n",
    "            break\n",
    "    if c>=1:\n",
    "        break"
   ]
  },
  {
   "cell_type": "code",
   "execution_count": null,
   "id": "5878ba64",
   "metadata": {},
   "outputs": [],
   "source": [
    "# animal\n",
    "path = '/aiffel/aiffel/aiffelthon/데이터EDA/random_1000/'\n",
    "png_list = sorted(glob(path+'*.png'))\n",
    "json_list = sorted(glob(path+'*.json'))\n",
    "c=0\n",
    "for i, j in zip(png_list, json_list):\n",
    "    with open(j,'r')as f:\n",
    "        info = json.load(f)\n",
    "    for k in info['annotations']:\n",
    "        if (k['attribute'] == 'animal')&(info['filename']=='1659687907847_FR-View-CMR-Wide.png'):\n",
    "            plt.figure(figsize=(12,8))\n",
    "            img = cv2.cvtColor( cv2.imread(i), cv2.COLOR_BGR2RGB)\n",
    "            img = cv2.rectangle(img, k['points'][0], k['points'][2], (255,0,255), 2)\n",
    "#             print(info['filename'])\n",
    "            plt.title('attrubute:animal')\n",
    "            plt.imshow(img)\n",
    "            plt.show()\n",
    "            c+=1\n",
    "            break\n",
    "    if c>=1:\n",
    "        break"
   ]
  },
  {
   "cell_type": "markdown",
   "id": "f384a15d",
   "metadata": {},
   "source": [
    "## 🎈occlusion:[1,2,3,4] "
   ]
  },
  {
   "cell_type": "code",
   "execution_count": null,
   "id": "87c7ed25",
   "metadata": {},
   "outputs": [],
   "source": [
    "# 1\n",
    "path = '/aiffel/aiffel/aiffelthon/데이터EDA/random_1000/'\n",
    "png_list = sorted(glob(path+'*.png'))\n",
    "json_list = sorted(glob(path+'*.json'))\n",
    "c=0\n",
    "for i, j in zip(png_list, json_list):\n",
    "    with open(j,'r')as f:\n",
    "        info = json.load(f)\n",
    "    for k in info['annotations']:\n",
    "        if (k['occlusion'] == 1)&(info['filename']=='1654739510387_FR-View-CMR-Wide.png'):\n",
    "            plt.figure(figsize=(12,8))\n",
    "            img = cv2.cvtColor( cv2.imread(i), cv2.COLOR_BGR2RGB)\n",
    "            img = cv2.rectangle(img, k['points'][0], k['points'][2], (255,0,255), 2)\n",
    "            plt.title('occlusion:1')\n",
    "#             print(info['filename'])\n",
    "            plt.imshow(img)\n",
    "            plt.show()\n",
    "            c+=1\n",
    "            break\n",
    "    if c>=1:\n",
    "        break"
   ]
  },
  {
   "cell_type": "code",
   "execution_count": null,
   "id": "5e377844",
   "metadata": {},
   "outputs": [],
   "source": [
    "# 2\n",
    "path = '/aiffel/aiffel/aiffelthon/데이터EDA/random_1000/'\n",
    "png_list = sorted(glob(path+'*.png'))\n",
    "json_list = sorted(glob(path+'*.json'))\n",
    "c=0\n",
    "for i, j in zip(png_list, json_list):\n",
    "    with open(j,'r')as f:\n",
    "        info = json.load(f)\n",
    "    for k in info['annotations']:\n",
    "        if (k['occlusion'] == 2)&(info['filename']=='1654751972944_FR-View-CMR-Wide.png'):\n",
    "            plt.figure(figsize=(12,8))\n",
    "            img = cv2.cvtColor( cv2.imread(i), cv2.COLOR_BGR2RGB)\n",
    "            img = cv2.rectangle(img, k['points'][0], k['points'][2], (255,0,255), 2)\n",
    "            plt.title('occlusion:2')\n",
    "#             print(info['filename'])\n",
    "            plt.imshow(img)\n",
    "            plt.show()\n",
    "            c+=1\n",
    "            break\n",
    "    if c>=1:\n",
    "        break"
   ]
  },
  {
   "cell_type": "code",
   "execution_count": null,
   "id": "94bf900f",
   "metadata": {},
   "outputs": [],
   "source": [
    "# 3\n",
    "path = '/aiffel/aiffel/aiffelthon/데이터EDA/random_1000/'\n",
    "png_list = sorted(glob(path+'*.png'))\n",
    "json_list = sorted(glob(path+'*.json'))\n",
    "c=0\n",
    "for i, j in zip(png_list, json_list):\n",
    "    with open(j,'r')as f:\n",
    "        info = json.load(f)\n",
    "    for k in info['annotations']:\n",
    "        if (k['occlusion'] == 3)&(info['filename']=='1654740559733_FR-View-CMR-Wide.png'):\n",
    "            plt.figure(figsize=(12,8))\n",
    "            img = cv2.cvtColor( cv2.imread(i), cv2.COLOR_BGR2RGB)\n",
    "            img = cv2.rectangle(img, k['points'][0], k['points'][2], (255,0,255), 2)\n",
    "            plt.title('occlusion:3')\n",
    "#             print(info['filename'])\n",
    "            plt.imshow(img)\n",
    "            plt.show()\n",
    "            c+=1\n",
    "            break\n",
    "    if c>=1:\n",
    "        break"
   ]
  },
  {
   "cell_type": "code",
   "execution_count": null,
   "id": "f5b105c5",
   "metadata": {},
   "outputs": [],
   "source": [
    "# 4\n",
    "path = '/aiffel/aiffel/aiffelthon/데이터EDA/random_1000/'\n",
    "png_list = sorted(glob(path+'*.png'))\n",
    "json_list = sorted(glob(path+'*.json'))\n",
    "c=0\n",
    "for i, j in zip(png_list, json_list):\n",
    "    with open(j,'r')as f:\n",
    "        info = json.load(f)\n",
    "    for k in info['annotations']:\n",
    "        if (k['occlusion'] == 4)&(info['filename']=='1654741503842_FR-View-CMR-Wide.png'):\n",
    "            plt.figure(figsize=(12,8))\n",
    "            img = cv2.cvtColor( cv2.imread(i), cv2.COLOR_BGR2RGB)\n",
    "            img = cv2.rectangle(img, k['points'][0], k['points'][2], (255,0,255), 2)\n",
    "            plt.title('occlusion:4')\n",
    "#             print(info['filename'])\n",
    "            plt.imshow(img)\n",
    "            plt.show()\n",
    "            c+=1\n",
    "            break\n",
    "    if c>=1:\n",
    "        break"
   ]
  },
  {
   "cell_type": "markdown",
   "id": "08fd927f",
   "metadata": {},
   "source": [
    "## 🎈truncation:[1,2,3,4]"
   ]
  },
  {
   "cell_type": "code",
   "execution_count": null,
   "id": "a6cb2ab4",
   "metadata": {},
   "outputs": [],
   "source": [
    "# 1\n",
    "path = '/aiffel/aiffel/aiffelthon/데이터EDA/random_1000/'\n",
    "png_list = sorted(glob(path+'*.png'))\n",
    "json_list = sorted(glob(path+'*.json'))\n",
    "c=0\n",
    "for i, j in zip(png_list, json_list):\n",
    "    with open(j,'r')as f:\n",
    "        info = json.load(f)\n",
    "    for k in info['annotations']:\n",
    "        if (k['truncation'] == 1)&(info['filename']=='1654752725510_FR-View-CMR-Wide.png'):\n",
    "            plt.figure(figsize=(12,8))\n",
    "            img = cv2.cvtColor( cv2.imread(i), cv2.COLOR_BGR2RGB)\n",
    "            img = cv2.rectangle(img, k['points'][0], k['points'][2], (255,0,255), 2)\n",
    "            plt.title('truncation:1')\n",
    "#             print(info['filename'])\n",
    "            plt.imshow(img)\n",
    "            plt.show()\n",
    "            c+=1\n",
    "            break\n",
    "    if c>=1:\n",
    "        break"
   ]
  },
  {
   "cell_type": "code",
   "execution_count": null,
   "id": "f6f1bfe7",
   "metadata": {},
   "outputs": [],
   "source": [
    "# 2\n",
    "path = '/aiffel/aiffel/aiffelthon/데이터EDA/random_1000/'\n",
    "png_list = sorted(glob(path+'*.png'))\n",
    "json_list = sorted(glob(path+'*.json'))\n",
    "c=0\n",
    "for i, j in zip(png_list, json_list):\n",
    "    with open(j,'r')as f:\n",
    "        info = json.load(f)\n",
    "    for k in info['annotations']:\n",
    "        if (k['truncation'] == 2)&(info['filename']=='1655165541867_FR-View-CMR-Wide.png'):\n",
    "            plt.figure(figsize=(12,8))\n",
    "            img = cv2.cvtColor( cv2.imread(i), cv2.COLOR_BGR2RGB)\n",
    "            img = cv2.rectangle(img, k['points'][0], k['points'][2], (255,0,255), 2)\n",
    "            plt.title('truncation:2')\n",
    "#             print(info['filename'])\n",
    "            plt.imshow(img)\n",
    "            plt.show()\n",
    "            c+=1\n",
    "            break\n",
    "    if c>=1:\n",
    "        break"
   ]
  },
  {
   "cell_type": "code",
   "execution_count": null,
   "id": "89032dcf",
   "metadata": {},
   "outputs": [],
   "source": [
    "# 3\n",
    "path = '/aiffel/aiffel/aiffelthon/데이터EDA/random_1000/'\n",
    "png_list = sorted(glob(path+'*.png'))\n",
    "json_list = sorted(glob(path+'*.json'))\n",
    "c=0\n",
    "for i, j in zip(png_list, json_list):\n",
    "    with open(j,'r')as f:\n",
    "        info = json.load(f)\n",
    "    for k in info['annotations']:\n",
    "        if (k['truncation'] == 3)&(info['filename']=='1654740559733_FR-View-CMR-Wide.png'):\n",
    "            plt.figure(figsize=(12,8))\n",
    "            img = cv2.cvtColor( cv2.imread(i), cv2.COLOR_BGR2RGB)\n",
    "            img = cv2.rectangle(img, k['points'][0], k['points'][2], (255,0,255), 2)\n",
    "            plt.title('truncation:3')\n",
    "#             print(info['filename'])\n",
    "            plt.imshow(img)\n",
    "            plt.show()\n",
    "            c+=1\n",
    "            break\n",
    "    if c>=1:\n",
    "        break"
   ]
  },
  {
   "cell_type": "code",
   "execution_count": null,
   "id": "613616bc",
   "metadata": {},
   "outputs": [],
   "source": [
    "# 4\n",
    "path = '/aiffel/aiffel/aiffelthon/데이터EDA/random_1000/'\n",
    "png_list = sorted(glob(path+'*.png'))\n",
    "json_list = sorted(glob(path+'*.json'))\n",
    "c=0\n",
    "for i, j in zip(png_list, json_list):\n",
    "    with open(j,'r')as f:\n",
    "        info = json.load(f)\n",
    "    for k in info['annotations']:\n",
    "        if (k['truncation'] == 4)&(info['filename']=='1654741032452_FR-View-CMR-Wide.png'):\n",
    "            plt.figure(figsize=(12,8))\n",
    "            img = cv2.cvtColor( cv2.imread(i), cv2.COLOR_BGR2RGB)\n",
    "            img = cv2.rectangle(img, k['points'][0], k['points'][2], (255,0,255), 2)\n",
    "            plt.title('truncation:4')\n",
    "#             print(info['filename'])\n",
    "            plt.imshow(img)\n",
    "            plt.show()\n",
    "            c+=1\n",
    "            break\n",
    "    if c>=1:\n",
    "        break"
   ]
  },
  {
   "cell_type": "markdown",
   "id": "a08bdfa4",
   "metadata": {},
   "source": [
    "## 🎈isfake:[1]"
   ]
  },
  {
   "cell_type": "code",
   "execution_count": null,
   "id": "3ba544f7",
   "metadata": {},
   "outputs": [],
   "source": [
    "# is_fake\n",
    "path = '/aiffel/aiffel/aiffelthon/데이터EDA/random_1000/'\n",
    "png_list = sorted(glob(path+'*.png'))\n",
    "json_list = sorted(glob(path+'*.json'))\n",
    "c=0\n",
    "for i, j in zip(png_list, json_list):\n",
    "    with open(j,'r')as f:\n",
    "        info = json.load(f)\n",
    "    for k in info['annotations']:\n",
    "        if k['isfake'] == 1:\n",
    "            plt.figure(figsize=(12,8))\n",
    "            img = cv2.cvtColor( cv2.imread(i), cv2.COLOR_BGR2RGB)\n",
    "            img = cv2.rectangle(img, k['points'][0], k['points'][2], (255,0,255), 2)\n",
    "            plt.title('isfake:1')\n",
    "            plt.imshow(img)\n",
    "            plt.show()\n",
    "            c+=1\n",
    "            break\n",
    "    if c>=1:\n",
    "        break"
   ]
  },
  {
   "cell_type": "markdown",
   "id": "4908b0a9",
   "metadata": {},
   "source": [
    "## 📝시각화 분석 결과\n",
    "- <h3>weather(날씨)</h3>\n",
    "    - sunny:맑음, cloudy:흐림\n",
    "- <h3>sensor_status(센서상태)</h3>\n",
    "    - normal:일반, reflection_from_dashboard:대시보드 반사, waterdrop:물맺힘, smear빛 번짐\n",
    "- <h3>illumination_status(조도 상태)</h3>\n",
    "    - backlight_sun:역광\n",
    "- <h3>crowd_level(객체수)</h3>\n",
    "    - high: 10 이상, middle : 5~10 사이, low: 5이하\n",
    "- <h3>attribute (특성)</h3>\n",
    "    - pm:(차량을 제외한 주차되어 있는 물체(킥보드, 자전거, 오토바이 등)), face:얼굴, unknown:미분류 객체, trailer:트레일러, specialclothes:안전요원, movable_object:수레,리어카 등,  wheelchair_stroller:휠체어,유모차등, animal:동물\n",
    "- <h3>occlusion(가려짐)</h3>\n",
    "    - 가려진 객체\n",
    "- <h3>truncation(잘림)</h3>\n",
    "    - 잘린 객체\n",
    "- <h3>isfake(가짜)</h3>\n",
    "    - 가짜 객체 , 현수막, 광고판에 나오는 객체등"
   ]
  },
  {
   "cell_type": "code",
   "execution_count": null,
   "id": "f9ed7aa9",
   "metadata": {},
   "outputs": [],
   "source": []
  }
 ],
 "metadata": {
  "kernelspec": {
   "display_name": "Python 3.9.12 ('base')",
   "language": "python",
   "name": "python3"
  },
  "language_info": {
   "codemirror_mode": {
    "name": "ipython",
    "version": 3
   },
   "file_extension": ".py",
   "mimetype": "text/x-python",
   "name": "python",
   "nbconvert_exporter": "python",
   "pygments_lexer": "ipython3",
   "version": "3.9.12"
  },
  "vscode": {
   "interpreter": {
    "hash": "7d136dbf6b15a1dcd03292ef6a9edc132f105406e4aeaab89de03fb175e670c8"
   }
  }
 },
 "nbformat": 4,
 "nbformat_minor": 5
}
