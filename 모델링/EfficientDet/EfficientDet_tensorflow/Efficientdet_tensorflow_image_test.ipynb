{
 "cells": [
  {
   "cell_type": "markdown",
   "id": "324c851d",
   "metadata": {},
   "source": [
    "# 📝 EfficientDet Test"
   ]
  },
  {
   "cell_type": "markdown",
   "id": "018e7f2b",
   "metadata": {},
   "source": [
    "## requirement 수행"
   ]
  },
  {
   "cell_type": "code",
   "execution_count": 1,
   "id": "0ab80112",
   "metadata": {},
   "outputs": [
    {
     "name": "stdout",
     "output_type": "stream",
     "text": [
      "/aiffel/aiffel/EfficientDet/automl/efficientdet\n"
     ]
    }
   ],
   "source": [
    "# test 관련 파일이 있는 경로로 이동\n",
    "%cd automl/efficientdet"
   ]
  },
  {
   "cell_type": "code",
   "execution_count": 2,
   "id": "138b80a0",
   "metadata": {},
   "outputs": [
    {
     "name": "stdout",
     "output_type": "stream",
     "text": [
      "Collecting git+https://github.com/cocodataset/cocoapi.git#subdirectory=PythonAPI (from -r requirements.txt (line 13))\n",
      "  Cloning https://github.com/cocodataset/cocoapi.git to /tmp/pip-req-build-66xz_n_h\n",
      "  Running command git clone --filter=blob:none -q https://github.com/cocodataset/cocoapi.git /tmp/pip-req-build-66xz_n_h\n",
      "  Resolved https://github.com/cocodataset/cocoapi.git to commit 8c9bcc3cf640524c4c20a9c40e89cb6a2f2fa0e9\n",
      "  Preparing metadata (setup.py) ... \u001b[?25ldone\n",
      "\u001b[?25hRequirement already satisfied: lxml>=4.6.1 in /opt/conda/lib/python3.9/site-packages (from -r requirements.txt (line 1)) (4.6.3)\n",
      "Requirement already satisfied: absl-py>=0.10.0 in /opt/conda/lib/python3.9/site-packages (from -r requirements.txt (line 2)) (1.3.0)\n",
      "Requirement already satisfied: matplotlib>=3.0.3 in /opt/conda/lib/python3.9/site-packages (from -r requirements.txt (line 3)) (3.4.3)\n",
      "Requirement already satisfied: numpy>=1.19.4 in /opt/conda/lib/python3.9/site-packages (from -r requirements.txt (line 4)) (1.21.4)\n",
      "Requirement already satisfied: Pillow>=6.0.0 in /opt/conda/lib/python3.9/site-packages (from -r requirements.txt (line 5)) (8.3.2)\n",
      "Requirement already satisfied: PyYAML>=5.1 in /opt/conda/lib/python3.9/site-packages (from -r requirements.txt (line 6)) (6.0)\n",
      "Requirement already satisfied: six>=1.15.0 in /opt/conda/lib/python3.9/site-packages (from -r requirements.txt (line 7)) (1.16.0)\n",
      "Requirement already satisfied: tensorflow>=2.10.0 in /opt/conda/lib/python3.9/site-packages (from -r requirements.txt (line 8)) (2.11.0)\n",
      "Requirement already satisfied: tensorflow-addons>=0.18.0 in /opt/conda/lib/python3.9/site-packages (from -r requirements.txt (line 9)) (0.18.0)\n",
      "Requirement already satisfied: tensorflow-hub>=0.11 in /opt/conda/lib/python3.9/site-packages (from -r requirements.txt (line 10)) (0.12.0)\n",
      "Requirement already satisfied: neural-structured-learning>=1.3.1 in /opt/conda/lib/python3.9/site-packages (from -r requirements.txt (line 11)) (1.4.0)\n",
      "Requirement already satisfied: Cython>=0.29.13 in /opt/conda/lib/python3.9/site-packages (from -r requirements.txt (line 12)) (0.29.24)\n",
      "Requirement already satisfied: pyparsing>=2.2.1 in /opt/conda/lib/python3.9/site-packages (from matplotlib>=3.0.3->-r requirements.txt (line 3)) (3.0.6)\n",
      "Requirement already satisfied: python-dateutil>=2.7 in /opt/conda/lib/python3.9/site-packages (from matplotlib>=3.0.3->-r requirements.txt (line 3)) (2.8.2)\n",
      "Requirement already satisfied: kiwisolver>=1.0.1 in /opt/conda/lib/python3.9/site-packages (from matplotlib>=3.0.3->-r requirements.txt (line 3)) (1.3.2)\n",
      "Requirement already satisfied: cycler>=0.10 in /opt/conda/lib/python3.9/site-packages (from matplotlib>=3.0.3->-r requirements.txt (line 3)) (0.11.0)\n",
      "Requirement already satisfied: protobuf<3.20,>=3.9.2 in /opt/conda/lib/python3.9/site-packages (from tensorflow>=2.10.0->-r requirements.txt (line 8)) (3.19.1)\n",
      "Requirement already satisfied: astunparse>=1.6.0 in /opt/conda/lib/python3.9/site-packages (from tensorflow>=2.10.0->-r requirements.txt (line 8)) (1.6.3)\n",
      "Requirement already satisfied: typing-extensions>=3.6.6 in /opt/conda/lib/python3.9/site-packages (from tensorflow>=2.10.0->-r requirements.txt (line 8)) (4.0.1)\n",
      "Requirement already satisfied: wrapt>=1.11.0 in /opt/conda/lib/python3.9/site-packages (from tensorflow>=2.10.0->-r requirements.txt (line 8)) (1.12.1)\n",
      "Requirement already satisfied: keras<2.12,>=2.11.0 in /opt/conda/lib/python3.9/site-packages (from tensorflow>=2.10.0->-r requirements.txt (line 8)) (2.11.0)\n",
      "Requirement already satisfied: packaging in /opt/conda/lib/python3.9/site-packages (from tensorflow>=2.10.0->-r requirements.txt (line 8)) (21.3)\n",
      "Requirement already satisfied: termcolor>=1.1.0 in /opt/conda/lib/python3.9/site-packages (from tensorflow>=2.10.0->-r requirements.txt (line 8)) (1.1.0)\n",
      "Requirement already satisfied: libclang>=13.0.0 in /opt/conda/lib/python3.9/site-packages (from tensorflow>=2.10.0->-r requirements.txt (line 8)) (14.0.6)\n",
      "Requirement already satisfied: gast<=0.4.0,>=0.2.1 in /opt/conda/lib/python3.9/site-packages (from tensorflow>=2.10.0->-r requirements.txt (line 8)) (0.4.0)\n",
      "Requirement already satisfied: flatbuffers>=2.0 in /opt/conda/lib/python3.9/site-packages (from tensorflow>=2.10.0->-r requirements.txt (line 8)) (22.12.6)\n",
      "Requirement already satisfied: google-pasta>=0.1.1 in /opt/conda/lib/python3.9/site-packages (from tensorflow>=2.10.0->-r requirements.txt (line 8)) (0.2.0)\n",
      "Requirement already satisfied: tensorflow-io-gcs-filesystem>=0.23.1 in /opt/conda/lib/python3.9/site-packages (from tensorflow>=2.10.0->-r requirements.txt (line 8)) (0.28.0)\n",
      "Requirement already satisfied: h5py>=2.9.0 in /opt/conda/lib/python3.9/site-packages (from tensorflow>=2.10.0->-r requirements.txt (line 8)) (3.1.0)\n",
      "Requirement already satisfied: grpcio<2.0,>=1.24.3 in /opt/conda/lib/python3.9/site-packages (from tensorflow>=2.10.0->-r requirements.txt (line 8)) (1.42.0)\n",
      "Requirement already satisfied: tensorboard<2.12,>=2.11 in /opt/conda/lib/python3.9/site-packages (from tensorflow>=2.10.0->-r requirements.txt (line 8)) (2.11.0)\n",
      "Requirement already satisfied: setuptools in /opt/conda/lib/python3.9/site-packages (from tensorflow>=2.10.0->-r requirements.txt (line 8)) (59.4.0)\n",
      "Requirement already satisfied: opt-einsum>=2.3.2 in /opt/conda/lib/python3.9/site-packages (from tensorflow>=2.10.0->-r requirements.txt (line 8)) (3.3.0)\n",
      "Requirement already satisfied: tensorflow-estimator<2.12,>=2.11.0 in /opt/conda/lib/python3.9/site-packages (from tensorflow>=2.10.0->-r requirements.txt (line 8)) (2.11.0)\n",
      "Requirement already satisfied: typeguard>=2.7 in /opt/conda/lib/python3.9/site-packages (from tensorflow-addons>=0.18.0->-r requirements.txt (line 9)) (2.13.2)\n",
      "Requirement already satisfied: attrs in /opt/conda/lib/python3.9/site-packages (from neural-structured-learning>=1.3.1->-r requirements.txt (line 11)) (21.2.0)\n",
      "Requirement already satisfied: scipy in /opt/conda/lib/python3.9/site-packages (from neural-structured-learning>=1.3.1->-r requirements.txt (line 11)) (1.7.1)\n",
      "Requirement already satisfied: wheel<1.0,>=0.23.0 in /opt/conda/lib/python3.9/site-packages (from astunparse>=1.6.0->tensorflow>=2.10.0->-r requirements.txt (line 8)) (0.37.0)\n",
      "Requirement already satisfied: google-auth<3,>=1.6.3 in /opt/conda/lib/python3.9/site-packages (from tensorboard<2.12,>=2.11->tensorflow>=2.10.0->-r requirements.txt (line 8)) (2.3.3)\n",
      "Requirement already satisfied: werkzeug>=1.0.1 in /opt/conda/lib/python3.9/site-packages (from tensorboard<2.12,>=2.11->tensorflow>=2.10.0->-r requirements.txt (line 8)) (2.0.2)\n",
      "Requirement already satisfied: google-auth-oauthlib<0.5,>=0.4.1 in /opt/conda/lib/python3.9/site-packages (from tensorboard<2.12,>=2.11->tensorflow>=2.10.0->-r requirements.txt (line 8)) (0.4.6)\n",
      "Requirement already satisfied: tensorboard-data-server<0.7.0,>=0.6.0 in /opt/conda/lib/python3.9/site-packages (from tensorboard<2.12,>=2.11->tensorflow>=2.10.0->-r requirements.txt (line 8)) (0.6.1)\n",
      "Requirement already satisfied: tensorboard-plugin-wit>=1.6.0 in /opt/conda/lib/python3.9/site-packages (from tensorboard<2.12,>=2.11->tensorflow>=2.10.0->-r requirements.txt (line 8)) (1.8.0)\n",
      "Requirement already satisfied: requests<3,>=2.21.0 in /opt/conda/lib/python3.9/site-packages (from tensorboard<2.12,>=2.11->tensorflow>=2.10.0->-r requirements.txt (line 8)) (2.26.0)\n",
      "Requirement already satisfied: markdown>=2.6.8 in /opt/conda/lib/python3.9/site-packages (from tensorboard<2.12,>=2.11->tensorflow>=2.10.0->-r requirements.txt (line 8)) (3.3.6)\n",
      "Requirement already satisfied: pyasn1-modules>=0.2.1 in /opt/conda/lib/python3.9/site-packages (from google-auth<3,>=1.6.3->tensorboard<2.12,>=2.11->tensorflow>=2.10.0->-r requirements.txt (line 8)) (0.2.8)\n",
      "Requirement already satisfied: cachetools<5.0,>=2.0.0 in /opt/conda/lib/python3.9/site-packages (from google-auth<3,>=1.6.3->tensorboard<2.12,>=2.11->tensorflow>=2.10.0->-r requirements.txt (line 8)) (4.2.4)\n",
      "Requirement already satisfied: rsa<5,>=3.1.4 in /opt/conda/lib/python3.9/site-packages (from google-auth<3,>=1.6.3->tensorboard<2.12,>=2.11->tensorflow>=2.10.0->-r requirements.txt (line 8)) (4.8)\n",
      "Requirement already satisfied: requests-oauthlib>=0.7.0 in /opt/conda/lib/python3.9/site-packages (from google-auth-oauthlib<0.5,>=0.4.1->tensorboard<2.12,>=2.11->tensorflow>=2.10.0->-r requirements.txt (line 8)) (1.3.0)\n",
      "Requirement already satisfied: importlib-metadata>=4.4 in /opt/conda/lib/python3.9/site-packages (from markdown>=2.6.8->tensorboard<2.12,>=2.11->tensorflow>=2.10.0->-r requirements.txt (line 8)) (4.8.2)\n",
      "Requirement already satisfied: urllib3<1.27,>=1.21.1 in /opt/conda/lib/python3.9/site-packages (from requests<3,>=2.21.0->tensorboard<2.12,>=2.11->tensorflow>=2.10.0->-r requirements.txt (line 8)) (1.26.7)\n",
      "Requirement already satisfied: idna<4,>=2.5 in /opt/conda/lib/python3.9/site-packages (from requests<3,>=2.21.0->tensorboard<2.12,>=2.11->tensorflow>=2.10.0->-r requirements.txt (line 8)) (2.10)\n",
      "Requirement already satisfied: certifi>=2017.4.17 in /opt/conda/lib/python3.9/site-packages (from requests<3,>=2.21.0->tensorboard<2.12,>=2.11->tensorflow>=2.10.0->-r requirements.txt (line 8)) (2021.10.8)\n",
      "Requirement already satisfied: charset-normalizer~=2.0.0 in /opt/conda/lib/python3.9/site-packages (from requests<3,>=2.21.0->tensorboard<2.12,>=2.11->tensorflow>=2.10.0->-r requirements.txt (line 8)) (2.0.8)\n"
     ]
    },
    {
     "name": "stdout",
     "output_type": "stream",
     "text": [
      "Requirement already satisfied: zipp>=0.5 in /opt/conda/lib/python3.9/site-packages (from importlib-metadata>=4.4->markdown>=2.6.8->tensorboard<2.12,>=2.11->tensorflow>=2.10.0->-r requirements.txt (line 8)) (3.6.0)\n",
      "Requirement already satisfied: pyasn1<0.5.0,>=0.4.6 in /opt/conda/lib/python3.9/site-packages (from pyasn1-modules>=0.2.1->google-auth<3,>=1.6.3->tensorboard<2.12,>=2.11->tensorflow>=2.10.0->-r requirements.txt (line 8)) (0.4.8)\n",
      "Requirement already satisfied: oauthlib>=3.0.0 in /opt/conda/lib/python3.9/site-packages (from requests-oauthlib>=0.7.0->google-auth-oauthlib<0.5,>=0.4.1->tensorboard<2.12,>=2.11->tensorflow>=2.10.0->-r requirements.txt (line 8)) (3.1.1)\n",
      "\u001b[33mWARNING: Running pip as the 'root' user can result in broken permissions and conflicting behaviour with the system package manager. It is recommended to use a virtual environment instead: https://pip.pypa.io/warnings/venv\u001b[0m\n"
     ]
    }
   ],
   "source": [
    "# requirement 설치\n",
    "!pip install -r requirements.txt"
   ]
  },
  {
   "cell_type": "markdown",
   "id": "1c90941a",
   "metadata": {},
   "source": [
    "## test 시 필요한 파라미터 설정"
   ]
  },
  {
   "cell_type": "code",
   "execution_count": 3,
   "id": "4a1900cd",
   "metadata": {
    "scrolled": true
   },
   "outputs": [
    {
     "name": "stdout",
     "output_type": "stream",
     "text": [
      "act_type: swish\n",
      "alpha: 0.25\n",
      "anchor_scale: 4.0\n",
      "apply_bn_for_resampling: true\n",
      "aspect_ratios:\n",
      "- 1.0\n",
      "- 2.0\n",
      "- 0.5\n",
      "autoaugment_policy: null\n",
      "backbone_config: null\n",
      "backbone_name: efficientnet-b2\n",
      "box_class_repeats: 3\n",
      "box_loss_weight: 50.0\n",
      "ckpt_var_scope: null\n",
      "clip_gradients_norm: 10.0\n",
      "conv_after_downsample: false\n",
      "conv_bn_act_pattern: false\n",
      "data_format: channels_last\n",
      "dataset_type: null\n",
      "delta: 0.1\n",
      "drop_remainder: true\n",
      "first_lr_drop_epoch: 200.0\n",
      "fpn_cell_repeats: 5\n",
      "fpn_config: null\n",
      "fpn_name: null\n",
      "fpn_num_filters: 112\n",
      "fpn_weight_method: null\n",
      "gamma: 1.5\n",
      "grad_checkpoint: false\n",
      "grid_mask: false\n",
      "heads:\n",
      "- object_detection\n",
      "image_size: 768\n",
      "img_summary_steps: null\n",
      "input_rand_hflip: true\n",
      "iou_loss_type: null\n",
      "iou_loss_weight: 1.0\n",
      "is_training_bn: false\n",
      "jitter_max: 2.0\n",
      "jitter_min: 0.1\n",
      "label_map: null\n",
      "label_smoothing: 0.1\n",
      "learning_rate: 0.08\n",
      "loss_scale: null\n",
      "lr_decay_method: cosine\n",
      "lr_warmup_epoch: 1.0\n",
      "lr_warmup_init: 0.008\n",
      "map_freq: 5\n",
      "max_instances_per_image: 100\n",
      "max_level: 7\n",
      "mean_rgb:\n",
      "- 123.675\n",
      "- 116.28\n",
      "- 103.53\n",
      "min_level: 3\n",
      "mixed_precision: false\n",
      "model_dir: /aiffel/aiffel/EfficientDet/efficientdet-d2_ckpt\n",
      "model_name: efficientdet-d2\n",
      "momentum: 0.9\n",
      "moving_average_decay: 0.9998\n",
      "name: efficientdet-d2\n",
      "nms_configs:\n",
      "    iou_thresh: null\n",
      "    max_nms_inputs: 0\n",
      "    max_output_size: 100\n",
      "    method: gaussian\n",
      "    pyfunc: false\n",
      "    score_thresh: 0.4\n",
      "    sigma: null\n",
      "num_classes: 4\n",
      "num_epochs: 300\n",
      "num_scales: 3\n",
      "optimizer: sgd\n",
      "poly_lr_power: 0.9\n",
      "positives_momentum: null\n",
      "pretrain_or_ckpt: 'True'\n",
      "regenerate_source_id: false\n",
      "sample_image: null\n",
      "save_freq: epoch\n",
      "scale_range: false\n",
      "second_lr_drop_epoch: 250.0\n",
      "seg_num_classes: 3\n",
      "separable_conv: true\n",
      "skip_crowd_during_training: true\n",
      "skip_mismatch: true\n",
      "stddev_rgb:\n",
      "- 58.395\n",
      "- 57.120000000000005\n",
      "- 57.375\n",
      "strategy: null\n",
      "survival_prob: null\n",
      "target_size: null\n",
      "tflite_max_detections: 100\n",
      "use_keras_model: true\n",
      "var_freeze_expr: null\n",
      "verbose: 1\n",
      "weight_decay: 4.0e-05\n",
      "\n"
     ]
    }
   ],
   "source": [
    "import hparams_config\n",
    "\n",
    "infer_config = hparams_config.get_efficientdet_config('efficientdet-d2')\n",
    "\n",
    "# config의 특정 항목을 update\n",
    "infer_config.model_name = 'efficientdet-d2'\n",
    "infer_config.model_dir = '/aiffel/aiffel/EfficientDet/efficientdet-d2_ckpt'\n",
    "# infer_config의 num_classes는 4로 바뀌어야 함. \n",
    "infer_config.num_classes = 4\n",
    "infer_config.is_training_bn = False\n",
    "infer_config.nms_configs.score_thresh = 0.4\n",
    "\n",
    "print(infer_config)"
   ]
  },
  {
   "cell_type": "markdown",
   "id": "42db91c1",
   "metadata": {},
   "source": [
    "## 학습된 가중치를 사용하여 모델 빌딩"
   ]
  },
  {
   "cell_type": "code",
   "execution_count": 4,
   "id": "eff4d302",
   "metadata": {},
   "outputs": [
    {
     "name": "stdout",
     "output_type": "stream",
     "text": [
      "WARNING:tensorflow:From /opt/conda/lib/python3.9/site-packages/tensorflow/python/autograph/pyct/static_analysis/liveness.py:83: Analyzer.lamba_check (from tensorflow.python.autograph.pyct.static_analysis.liveness) is deprecated and will be removed after 2023-09-23.\n",
      "Instructions for updating:\n",
      "Lambda fuctions will be no more assumed to be used in the statement where they are used, or at least in the same block. https://github.com/tensorflow/tensorflow/issues/56089\n"
     ]
    },
    {
     "name": "stderr",
     "output_type": "stream",
     "text": [
      "WARNING:tensorflow:From /opt/conda/lib/python3.9/site-packages/tensorflow/python/autograph/pyct/static_analysis/liveness.py:83: Analyzer.lamba_check (from tensorflow.python.autograph.pyct.static_analysis.liveness) is deprecated and will be removed after 2023-09-23.\n",
      "Instructions for updating:\n",
      "Lambda fuctions will be no more assumed to be used in the statement where they are used, or at least in the same block. https://github.com/tensorflow/tensorflow/issues/56089\n",
      "/tmp/__autograph_generated_filez2k3gy83.py:23: UserWarning: `layer.updates` will be removed in a future version. This property should not be used in TensorFlow 2.0, as `updates` are applied automatically.\n",
      "  ag__.for_stmt(ag__.ld(self).updates, None, loop_body, get_state, set_state, (), {'iterate_names': 'u'})\n",
      "/aiffel/aiffel/EfficientDet/automl/efficientdet/utils.py:255: UserWarning: `layer.updates` will be removed in a future version. This property should not be used in TensorFlow 2.0, as `updates` are applied automatically.\n",
      "  for u in self.updates:\n"
     ]
    },
    {
     "name": "stdout",
     "output_type": "stream",
     "text": [
      "#### checkpoint name: /aiffel/aiffel/EfficientDet/efficientdet-d2_ckpt/ckpt-100\n",
      "Model: \"\"\n",
      "_________________________________________________________________\n",
      " Layer (type)                Output Shape              Param #   \n",
      "=================================================================\n",
      " efficientnet-b2 (Model)     multiple                  7267314   \n",
      "                                                                 \n",
      " resample_p6 (ResampleFeatur  multiple                 39984     \n",
      " eMap)                                                           \n",
      "                                                                 \n",
      " resample_p7 (ResampleFeatur  multiple                 0         \n",
      " eMap)                                                           \n",
      "                                                                 \n",
      " fpn_cells (FPNCells)        multiple                  678479    \n",
      "                                                                 \n",
      " class_net (ClassNet)        multiple                  52788     \n",
      "                                                                 \n",
      " box_net (BoxNet)            multiple                  52788     \n",
      "                                                                 \n",
      "=================================================================\n",
      "Total params: 8,091,353\n",
      "Trainable params: 8,009,577\n",
      "Non-trainable params: 81,776\n",
      "_________________________________________________________________\n"
     ]
    }
   ],
   "source": [
    "import inference\n",
    "from tf2 import efficientdet_keras\n",
    "import tensorflow as tf\n",
    "\n",
    "model = efficientdet_keras.EfficientDetModel(config=infer_config)\n",
    "model.build((None, None, None, 3))\n",
    "print('#### checkpoint name:', tf.train.latest_checkpoint(infer_config.model_dir))\n",
    "model.load_weights(tf.train.latest_checkpoint(infer_config.model_dir))\n",
    "model.summary()"
   ]
  },
  {
   "cell_type": "markdown",
   "id": "64ae95d9",
   "metadata": {},
   "source": [
    "## Test 결과를 시각화하기 위한 준비"
   ]
  },
  {
   "cell_type": "code",
   "execution_count": 5,
   "id": "ba789926",
   "metadata": {},
   "outputs": [],
   "source": [
    "import time\n",
    "\n",
    "class ExportModel(tf.Module):\n",
    "\n",
    "  def __init__(self, model):\n",
    "    super().__init__()\n",
    "    self.model = model\n",
    "\n",
    "  @tf.function\n",
    "  def f(self, imgs):\n",
    "    #model(imgs, training=False, post_mode='global')\n",
    "    return self.model(imgs, training=False, post_mode='global')\n",
    "\n",
    "export_model = ExportModel(model)"
   ]
  },
  {
   "cell_type": "code",
   "execution_count": 6,
   "id": "b5db5177",
   "metadata": {},
   "outputs": [],
   "source": [
    "# label 이름 설정\n",
    "labels_to_names =  {\n",
    "    0 : 'Car', \n",
    "    1 : 'Truck', \n",
    "    2 : 'Bus', \n",
    "    3 : 'Pedestrian'\n",
    "}"
   ]
  },
  {
   "cell_type": "code",
   "execution_count": 7,
   "id": "876a2e77",
   "metadata": {},
   "outputs": [],
   "source": [
    "# test 이미지에 박스와 confidence score 출력하는 함수\n",
    "def get_detected_img(export_model, img_array, is_print=True):\n",
    "    # automl efficent은 반환 bbox 좌표값이 원본 이미지 좌표값으로 되어 있으므로 별도의 scaling작업 필요 없음. \n",
    "    '''\n",
    "    height = img_array.shape[0]\n",
    "    width = img_array.shape[1]\n",
    "    '''\n",
    "    # cv2의 rectangle()은 인자로 들어온 이미지 배열에 직접 사각형을 업데이트 하므로 그림 표현을 위한 별도의 이미지 배열 생성. \n",
    "    draw_img = img_array.copy()\n",
    "\n",
    "    # bounding box의 테두리와 caption 글자색 지정\n",
    "    green_color=(0, 255, 0)\n",
    "    red_color=(255, 0, 0)\n",
    "    blue_color=(0, 0, 255)\n",
    "    pink_colo=(255, 0, 255)\n",
    "    white_color=(255, 255, 255)\n",
    "\n",
    "    # cv2로 만들어진 numpy image array를 tensor로 변환\n",
    "    img_tensor = tf.convert_to_tensor(img_array, dtype=tf.uint8)[tf.newaxis, ...]\n",
    "    #img_tensor = tf.convert_to_tensor(img_array, dtype=tf.float32)[tf.newaxis, ...]\n",
    "\n",
    "    # efficientdet 모델을 다운로드 한 뒤 inference 수행. \n",
    "    start_time = time.time()\n",
    "    # automl efficientdet 모델은 boxes, score, classes, num_detections를 각각 Tensor로 반환. \n",
    "\n",
    "    boxes, scores, classes, valid_len = export_model.f(img_tensor)\n",
    "    # Tensor값을 시각화를 위해 numpy 로 변환. \n",
    "    boxes = boxes.numpy()\n",
    "    scores = scores.numpy()\n",
    "    classes = classes.numpy()\n",
    "    valid_len = valid_len.numpy()\n",
    "\n",
    "    # detected 된 object들을 iteration 하면서 정보 추출.\n",
    "    for i in range(valid_len[0]):\n",
    "        # detection score를 iteration시 마다 높은 순으로 추출하고 SCORE_THRESHOLD보다 낮으면 loop 중단. \n",
    "        score = scores[0, i]\n",
    "\n",
    "        # detected된 object들은 scale된 기준으로 예측되었으므로 다시 원본 이미지 비율로 계산\n",
    "        box = boxes[0, i]\n",
    "\n",
    "        ''' **** 주의 ******\n",
    "        box는 ymin, xmin, ymax, xmax 순서로 되어 있음. 또한 원본 좌표값으로 되어 있음. '''\n",
    "        left = box[1]\n",
    "        top = box[0] \n",
    "        right = box[3] \n",
    "        bottom = box[2] \n",
    "\n",
    "        # class id 추출하고 class 명으로 매핑\n",
    "        class_id = classes[0, i]\n",
    "        caption = \"{}: {:.4f}\".format(labels_to_names[class_id], score)\n",
    "#         print(caption)\n",
    "        #cv2.rectangle()은 인자로 들어온 draw_img에 사각형을 그림. 위치 인자는 반드시 정수형.\n",
    "        \n",
    "        if labels_to_names[class_id] == 'Car': # 객체가 car이면 박스 색깔 green\n",
    "            color = green_color\n",
    "        elif labels_to_names[class_id] == 'Truck': # 객체가 truck이면 박스 색깔 red\n",
    "            color = red_color\n",
    "        elif labels_to_names[class_id] == 'Bus': # 객체가 bus이면 박스 색깔 blue\n",
    "            color = blue_color\n",
    "        else:                                   # 객체가 pedestrian이면 박스 색깔 pink\n",
    "            color = pink_color\n",
    "            \n",
    "        cv2.rectangle(draw_img, (int(left), int(top)), (int(right), int(bottom)), color=color, thickness=2)\n",
    "        cv2.putText(draw_img, caption, (int(left), int(top - 5)), cv2.FONT_HERSHEY_SIMPLEX, 0.5, white_color, 1)\n",
    "\n",
    "#     if is_print:\n",
    "#         print('Detection 수행시간:',round(time.time() - start_time, 2),\"초\")\n",
    "\n",
    "    return draw_img"
   ]
  },
  {
   "cell_type": "markdown",
   "id": "f2082c53",
   "metadata": {},
   "source": [
    "## Test 할 이미지 확인"
   ]
  },
  {
   "cell_type": "code",
   "execution_count": 8,
   "id": "ee8421d0",
   "metadata": {},
   "outputs": [
    {
     "name": "stdout",
     "output_type": "stream",
     "text": [
      "/aiffel/aiffel/AIFFELTHON/real_dataset/test_data\n"
     ]
    }
   ],
   "source": [
    "%cd ../../../AIFFELTHON/real_dataset/test_data"
   ]
  },
  {
   "cell_type": "code",
   "execution_count": null,
   "id": "fa98e693",
   "metadata": {},
   "outputs": [],
   "source": [
    "import os\n",
    "\n",
    "images = os.listdir('images')\n",
    "images"
   ]
  },
  {
   "cell_type": "markdown",
   "id": "9e22f048",
   "metadata": {},
   "source": [
    "## Test 진행"
   ]
  },
  {
   "cell_type": "code",
   "execution_count": null,
   "id": "daf9c1d5",
   "metadata": {
    "scrolled": false
   },
   "outputs": [],
   "source": [
    "import cv2\n",
    "import matplotlib.pyplot as plt\n",
    "\n",
    "for i in images[10:15]:\n",
    "    img_array = cv2.cvtColor(cv2.imread('images/'+i), cv2.COLOR_BGR2RGB)\n",
    "\n",
    "    draw_img = get_detected_img(export_model, img_array, is_print=True)\n",
    "    plt.figure(figsize=(16, 16))\n",
    "    plt.imshow(draw_img)"
   ]
  }
 ],
 "metadata": {
  "kernelspec": {
   "display_name": "Python 3.9.6 64-bit",
   "language": "python",
   "name": "python3"
  },
  "language_info": {
   "codemirror_mode": {
    "name": "ipython",
    "version": 3
   },
   "file_extension": ".py",
   "mimetype": "text/x-python",
   "name": "python",
   "nbconvert_exporter": "python",
   "pygments_lexer": "ipython3",
   "version": "3.9.6"
  },
  "vscode": {
   "interpreter": {
    "hash": "31f2aee4e71d21fbe5cf8b01ff0e069b9275f58929596ceb00d14d90e3e16cd6"
   }
  }
 },
 "nbformat": 4,
 "nbformat_minor": 5
}
