{
 "cells": [
  {
   "cell_type": "markdown",
   "metadata": {},
   "source": [
    "# 목차\n",
    "    1. 파일 확인\n",
    "    2. MMdetection에 쓸 수 있는 txt 만들기\n",
    "        2-1 목표 txt 파일 만들기\n",
    "    3. image name txt 파일 만들기(img name 목록)\n",
    "        "
   ]
  },
  {
   "cell_type": "markdown",
   "metadata": {},
   "source": [
    "## 파일 확인"
   ]
  },
  {
   "cell_type": "code",
   "execution_count": 38,
   "metadata": {},
   "outputs": [
    {
     "name": "stdout",
     "output_type": "stream",
     "text": [
      "8000 2000 400 10400\n"
     ]
    }
   ],
   "source": [
    "from glob import glob\n",
    "import os\n",
    "\n",
    "train_path = sorted(os.listdir('/Users/yunjeongdeok/Project/에이모/aimmo/train_label'))\n",
    "val_path = sorted(os.listdir('/Users/yunjeongdeok/Project/에이모/aimmo/val_label'))\n",
    "test_path = sorted(os.listdir('/Users/yunjeongdeok/Project/에이모/aimmo/test_label'))\n",
    "\n",
    "train_img = os.listdir('/Users/yunjeongdeok/Project/에이모/aimmo/img')\n",
    "\n",
    "print(len(train_path), len(val_path), len(test_path), len(train_img))"
   ]
  },
  {
   "cell_type": "markdown",
   "metadata": {},
   "source": [
    "- mac으 작업할 때  계속 .DS_Store가 생기고, 에러가 생긴다.\n",
    "- 그래서 제거했다."
   ]
  },
  {
   "cell_type": "code",
   "execution_count": null,
   "metadata": {},
   "outputs": [],
   "source": [
    "# %cd /Users/yunjeongdeok/Project/에이모/aimmo/img\n",
    "# !rm -rf .DS_Store\n",
    "# !ls -a"
   ]
  },
  {
   "cell_type": "code",
   "execution_count": 41,
   "metadata": {},
   "outputs": [
    {
     "name": "stdout",
     "output_type": "stream",
     "text": [
      "1654739005761_FR-View-CMR-Wide\n",
      "1659403211965_RR-Right-View-CMR-Narrow\n"
     ]
    }
   ],
   "source": [
    "# 확장자(.png, .json)를 제거(슬라이싱)했다.\n",
    "print(train_path[0][:-4], train_img[0][:-4], sep='\\n')"
   ]
  },
  {
   "cell_type": "code",
   "execution_count": 44,
   "metadata": {},
   "outputs": [
    {
     "name": "stdout",
     "output_type": "stream",
     "text": [
      "8000\n"
     ]
    }
   ],
   "source": [
    "# 계속 확인했다.\n",
    "count = 0\n",
    "for i in train_img:\n",
    "    for j in train_path:\n",
    "        if i[:-4] ==  j[:-4]:\n",
    "            count +=1\n",
    "\n",
    "print(count)"
   ]
  },
  {
   "cell_type": "markdown",
   "metadata": {},
   "source": [
    "## 2. MMdetection에 쓸 수 있는 txt 만들기\n",
    "\n",
    "### 필요한 데이터\n",
    "\n",
    "####  각각의(attribute, xmin, ymin, xmax, ymax).txt를 만들기  \n",
    "#### => MMdetection에 있는 custom.py를 이용해서 아래와 같은 데이터셋을 만들수 있다\n",
    "\n",
    "\n",
    "\n",
    "1. filename: 이미지 파일명(디렉토리는 포함하지 않음)\n",
    "2. width: 이미지 너비\n",
    "3. height: 이미지 높이\n",
    "3. ann: bbounding box와 label에 대한 정보를 가지는 Dictionary\n",
    "    1. bboxes: 하나의 이미지에 있는 여러 Object 들의 numpy array. 4개의 좌표값(좌상단, 우하단)을 가지고, 해당 이미지에 n개의 Object들이 있을 경우 array의 shape는 (n, 4)\n",
    "    2. labels: 하나의 이미지에 있는 여러 Object들의 numpy array. shape는 (n, )\n",
    "    3. bboxes_ignore: 학습에 사용되지 않고 무시하는 bboxes. 무시하는 bboxes의 개수가 k개이면 shape는 (k, 4)\n",
    "    4. labels_ignore: 학습에 사용되지 않고 무시하는 labels. 무시하는 bboxes의 개수가 k개이면 shape는 (k,)\n",
    "\n",
    "![mmdetection_anno.png](data:image/png;base64,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)"
   ]
  },
  {
   "cell_type": "markdown",
   "metadata": {},
   "source": [
    "## 2-1 목표 txt 파일 만들기\n",
    "\n",
    "- 각각의(attribute, xmin, ymin, xmax, ymax).txt"
   ]
  },
  {
   "cell_type": "code",
   "execution_count": 31,
   "metadata": {},
   "outputs": [],
   "source": [
    "from collections import OrderedDict\n",
    "from glob import glob\n",
    "import json\n",
    "import os\n",
    "\n",
    "\n",
    "# 이거 쓰면 파일명에 확장자(예: abc.png.txt, abc.jpg.txt 등)도 그대로 하기 적혀서 나온다. 주의 바람.\n",
    "def json_to_txt(json_path, mov_path):\n",
    "    # 1. 이미지 file names\n",
    "    json_path_names = glob(json_path+'/*.json')\n",
    "\n",
    "    # 2. width, height\n",
    "    for i in json_path_names:\n",
    "        with open(i, 'r') as f:\n",
    "            json_ = json.load(f)\n",
    "        ann = json_['annotations']\n",
    "\n",
    "        for i in ann:\n",
    "            # 아래의 i['points'][0][0]*960/1920, 아래의 i['points'][0][0]*512/1920에서 960, 512는\n",
    "            # 원본(1920,1024)에서 0.5로 resize한 W,H크기이다.\n",
    "            x_min, x_max = (i['points'][0][0]*960), (i['points'][2][0]*960)\n",
    "            y_min, y_max = (i['points'][0][1]*512), (i['points'][2][1]*512)\n",
    "            att = i['attribute']\n",
    "\n",
    "            # 라벨.txt 저장\n",
    "            path = mov_path\n",
    "            filename = json_['filename']+'.txt'\n",
    "            if not os.path.exists(f\"{path}/{filename}\"):# 파일이 없으면\n",
    "                f = open(f\"{path}/{filename}\",'w') # 파일 생성, 슬라이싱을 안하면 파일명에 확장자(예: abc.png.txt, abc.jpg.txt 등)도 그대로 하기 적혀서 나온다. 주의 바람.\n",
    "                f.close()\n",
    "            with open(f\"{path}/{filename}\", 'a') as f: # 이어 쓰기, 슬라이싱을 안하면 파일명에 확장자(예: abc.png.txt, abc.jpg.txt 등)도 그대로 하기 적혀서 나온다. 주의 바람.\n",
    "                    f.writelines(f\"{att} {x_min} {y_min} {x_max} {y_max}\\n\")\n",
    "\n",
    "\n",
    "train_path = '/Users/yunjeongdeok/Project/에이모/aimmo/train_json'\n",
    "val_path = '/Users/yunjeongdeok/Project/에이모/aimmo/val_json'\n",
    "test_path = '/Users/yunjeongdeok/Project/에이모/aimmo/test_json'\n",
    "\n",
    "mov_foldert_path = '/Users/yunjeongdeok/Project/에이모/aimmo/test_label'\n",
    "json_to_txt(test_path, mov_foldert_path)\n"
   ]
  },
  {
   "cell_type": "markdown",
   "metadata": {},
   "source": [
    "## 2-2 train, val, test로 나누고 나눈 목록(fiile name)을 txt로 만들기"
   ]
  },
  {
   "cell_type": "code",
   "execution_count": 54,
   "metadata": {},
   "outputs": [
    {
     "data": {
      "text/plain": [
       "200"
      ]
     },
     "execution_count": 54,
     "metadata": {},
     "output_type": "execute_result"
    }
   ],
   "source": [
    "import os\n",
    "from numpy import random\n",
    "\n",
    "png = os.listdir('/Users/yunjeongdeok/Project/에이모/size_origin_custum_coco/train/label')\n",
    "train_png = random.choice(png, size=700, replace=False)\n",
    "val_png = random.choice(png, size=200, replace=False)\n",
    "test_png = random.choice(png, size=100, replace=False)\n"
   ]
  },
  {
   "cell_type": "code",
   "execution_count": 4,
   "metadata": {},
   "outputs": [],
   "source": [
    "import shutil\n",
    "\n",
    "src_img_path = '/Users/yunjeongdeok/Project/에이모/label'\n",
    "src_label_path = '/Users/yunjeongdeok/Project/에이모/label'\n",
    "\n",
    "# 이동시킬 폴더 경로(path)\n",
    "train_mov_img_path = '/Users/yunjeongdeok/Project/에이모/custum_coco/train_img/'\n",
    "val_mov_img_path = '/Users/yunjeongdeok/Project/에이모/custum_coco/val_img/'\n",
    "test_mov_img_path = '/Users/yunjeongdeok/Project/에이모/custum_coco/test_img/'\n",
    "\n",
    "train_label_path = '/Users/yunjeongdeok/Project/에이모/custum_coco/train_label/'\n",
    "val_label_path = '/Users/yunjeongdeok/Project/에이모/custum_coco/val_label/'\n",
    "test_label_path = '/Users/yunjeongdeok/Project/에이모/custum_coco/test_label/'\n",
    "\n",
    "\n",
    "# for i in png:\n",
    "#     if i in random_png:\n",
    "#         # shutil.move(src_img_path+i,train_mov_img_path+i)\n",
    "#         shutil.move(src_img_path+i,val_mov_img_path+i)\n",
    "#         # shutil.move(src_img_path+i,test_mov_img_path+i)\n"
   ]
  },
  {
   "cell_type": "code",
   "execution_count": 15,
   "metadata": {},
   "outputs": [
    {
     "name": "stdout",
     "output_type": "stream",
     "text": [
      "100 1000\n"
     ]
    }
   ],
   "source": [
    "random_png = os.listdir(test_mov_img_path)\n",
    "json = os.listdir('/Users/yunjeongdeok/Project/에이모/label')\n",
    "\n",
    "print(len(random_png), len(json))"
   ]
  },
  {
   "cell_type": "code",
   "execution_count": 16,
   "metadata": {},
   "outputs": [],
   "source": [
    "for i in json:\n",
    "    for j in random_png:\n",
    "        if i[:-4] == j[:]:\n",
    "            shutil.move(src_label_path+i, test_label_path+i)"
   ]
  },
  {
   "cell_type": "markdown",
   "metadata": {},
   "source": [
    "## 3. image name txt 파일 만들기(img name 목록)"
   ]
  },
  {
   "cell_type": "code",
   "execution_count": 55,
   "metadata": {},
   "outputs": [
    {
     "name": "stdout",
     "output_type": "stream",
     "text": [
      "8000 2000 400 10400\n"
     ]
    }
   ],
   "source": [
    "train_path = sorted(os.listdir('/Users/yunjeongdeok/Project/에이모/aimmo/train_label'))\n",
    "val_path = sorted(os.listdir('/Users/yunjeongdeok/Project/에이모/aimmo/val_label'))\n",
    "test_path = sorted(os.listdir('/Users/yunjeongdeok/Project/에이모/aimmo/test_label'))\n",
    "\n",
    "print(len(train_path), len(val_path), len(test_path), len(train_img))"
   ]
  },
  {
   "cell_type": "code",
   "execution_count": 57,
   "metadata": {},
   "outputs": [],
   "source": [
    "import os\n",
    "\n",
    "def make_txt_lists(file_lists, mov_path, make_file_name):\n",
    "    for i in file_lists:\n",
    "        with open(mov_path + f'/{make_file_name}.txt', 'a') as f: # 이어 쓰기\n",
    "            f.writelines(f\"{i}\\n\")\n",
    "\n",
    "train_path = sorted(os.listdir('/Users/yunjeongdeok/Project/에이모/aimmo/train_label'))\n",
    "val_path = sorted(os.listdir('/Users/yunjeongdeok/Project/에이모/aimmo/val_label'))\n",
    "test_path = sorted(os.listdir('/Users/yunjeongdeok/Project/에이모/aimmo/test_label'))\n",
    "\n",
    "mov_path = '/Users/yunjeongdeok/Project/에이모/aimmo'\n",
    "make_txt_lists(train_path, mov_path, 'train')"
   ]
  },
  {
   "cell_type": "code",
   "execution_count": null,
   "metadata": {},
   "outputs": [],
   "source": []
  },
  {
   "cell_type": "code",
   "execution_count": null,
   "metadata": {},
   "outputs": [],
   "source": []
  }
 ],
 "metadata": {
  "kernelspec": {
   "display_name": "Python 3.8.13 ('study')",
   "language": "python",
   "name": "python3"
  },
  "language_info": {
   "codemirror_mode": {
    "name": "ipython",
    "version": 3
   },
   "file_extension": ".py",
   "mimetype": "text/x-python",
   "name": "python",
   "nbconvert_exporter": "python",
   "pygments_lexer": "ipython3",
   "version": "3.8.13"
  },
  "orig_nbformat": 4,
  "vscode": {
   "interpreter": {
    "hash": "9e5ba8102417ed24000ae30d0ee823b0df91ab90972766c536e2f5d51ee26514"
   }
  }
 },
 "nbformat": 4,
 "nbformat_minor": 2
}
