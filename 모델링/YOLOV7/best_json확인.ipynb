{
 "cells": [
  {
   "cell_type": "code",
   "execution_count": 3,
   "id": "93f800fb",
   "metadata": {},
   "outputs": [
    {
     "data": {
      "text/plain": [
       "158620"
      ]
     },
     "execution_count": 3,
     "metadata": {},
     "output_type": "execute_result"
    }
   ],
   "source": [
    "import json\n",
    "from glob import glob\n",
    "with open('/aiffel/aiffel/yolov7_start/yolov7/runs/test/yolov7_default66/best_predictions.json','r')as f:\n",
    "    best = json.load(f)\n",
    "len(best)"
   ]
  },
  {
   "cell_type": "code",
   "execution_count": 5,
   "id": "cdd86c0b",
   "metadata": {},
   "outputs": [
    {
     "data": {
      "text/plain": [
       "{'image_id': '1654739379963_FR-View-CMR-Wide',\n",
       " 'category_id': 0,\n",
       " 'bbox': [646.5, 292.5, 160.0, 92.0],\n",
       " 'score': 0.98975}"
      ]
     },
     "execution_count": 5,
     "metadata": {},
     "output_type": "execute_result"
    }
   ],
   "source": [
    "best[0]"
   ]
  },
  {
   "cell_type": "code",
   "execution_count": null,
   "id": "b5233af6",
   "metadata": {},
   "outputs": [],
   "source": []
  }
 ],
 "metadata": {
  "kernelspec": {
   "display_name": "Python 3 (ipykernel)",
   "language": "python",
   "name": "python3"
  },
  "language_info": {
   "codemirror_mode": {
    "name": "ipython",
    "version": 3
   },
   "file_extension": ".py",
   "mimetype": "text/x-python",
   "name": "python",
   "nbconvert_exporter": "python",
   "pygments_lexer": "ipython3",
   "version": "3.9.7"
  }
 },
 "nbformat": 4,
 "nbformat_minor": 5
}
